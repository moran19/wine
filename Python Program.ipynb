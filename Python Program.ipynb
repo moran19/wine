{
 "cells": [
  {
   "cell_type": "code",
   "execution_count": 1,
   "id": "d74e007c",
   "metadata": {},
   "outputs": [],
   "source": [
    "import pandas as pd"
   ]
  },
  {
   "cell_type": "code",
   "execution_count": 2,
   "id": "0684d2e3",
   "metadata": {},
   "outputs": [],
   "source": [
    "df = pd.read_csv(\"winequality-red.csv\")"
   ]
  },
  {
   "cell_type": "code",
   "execution_count": 3,
   "id": "07cd587f",
   "metadata": {},
   "outputs": [],
   "source": [
    "df = df.drop_duplicates()"
   ]
  },
  {
   "cell_type": "code",
   "execution_count": 4,
   "id": "0076970b",
   "metadata": {},
   "outputs": [
    {
     "data": {
      "text/html": [
       "<div>\n",
       "<style scoped>\n",
       "    .dataframe tbody tr th:only-of-type {\n",
       "        vertical-align: middle;\n",
       "    }\n",
       "\n",
       "    .dataframe tbody tr th {\n",
       "        vertical-align: top;\n",
       "    }\n",
       "\n",
       "    .dataframe thead th {\n",
       "        text-align: right;\n",
       "    }\n",
       "</style>\n",
       "<table border=\"1\" class=\"dataframe\">\n",
       "  <thead>\n",
       "    <tr style=\"text-align: right;\">\n",
       "      <th></th>\n",
       "      <th>count</th>\n",
       "      <th>mean</th>\n",
       "      <th>std</th>\n",
       "      <th>min</th>\n",
       "      <th>25%</th>\n",
       "      <th>50%</th>\n",
       "      <th>75%</th>\n",
       "      <th>max</th>\n",
       "    </tr>\n",
       "  </thead>\n",
       "  <tbody>\n",
       "    <tr>\n",
       "      <th>fixed acidity</th>\n",
       "      <td>1359.0</td>\n",
       "      <td>8.310596</td>\n",
       "      <td>1.736990</td>\n",
       "      <td>4.60000</td>\n",
       "      <td>7.1000</td>\n",
       "      <td>7.9000</td>\n",
       "      <td>9.20000</td>\n",
       "      <td>15.90000</td>\n",
       "    </tr>\n",
       "    <tr>\n",
       "      <th>volatile acidity</th>\n",
       "      <td>1359.0</td>\n",
       "      <td>0.529478</td>\n",
       "      <td>0.183031</td>\n",
       "      <td>0.12000</td>\n",
       "      <td>0.3900</td>\n",
       "      <td>0.5200</td>\n",
       "      <td>0.64000</td>\n",
       "      <td>1.58000</td>\n",
       "    </tr>\n",
       "    <tr>\n",
       "      <th>citric acid</th>\n",
       "      <td>1359.0</td>\n",
       "      <td>0.272333</td>\n",
       "      <td>0.195537</td>\n",
       "      <td>0.00000</td>\n",
       "      <td>0.0900</td>\n",
       "      <td>0.2600</td>\n",
       "      <td>0.43000</td>\n",
       "      <td>1.00000</td>\n",
       "    </tr>\n",
       "    <tr>\n",
       "      <th>residual sugar</th>\n",
       "      <td>1359.0</td>\n",
       "      <td>2.523400</td>\n",
       "      <td>1.352314</td>\n",
       "      <td>0.90000</td>\n",
       "      <td>1.9000</td>\n",
       "      <td>2.2000</td>\n",
       "      <td>2.60000</td>\n",
       "      <td>15.50000</td>\n",
       "    </tr>\n",
       "    <tr>\n",
       "      <th>chlorides</th>\n",
       "      <td>1359.0</td>\n",
       "      <td>0.088124</td>\n",
       "      <td>0.049377</td>\n",
       "      <td>0.01200</td>\n",
       "      <td>0.0700</td>\n",
       "      <td>0.0790</td>\n",
       "      <td>0.09100</td>\n",
       "      <td>0.61100</td>\n",
       "    </tr>\n",
       "    <tr>\n",
       "      <th>free sulfur dioxide</th>\n",
       "      <td>1359.0</td>\n",
       "      <td>15.893304</td>\n",
       "      <td>10.447270</td>\n",
       "      <td>1.00000</td>\n",
       "      <td>7.0000</td>\n",
       "      <td>14.0000</td>\n",
       "      <td>21.00000</td>\n",
       "      <td>72.00000</td>\n",
       "    </tr>\n",
       "    <tr>\n",
       "      <th>total sulfur dioxide</th>\n",
       "      <td>1359.0</td>\n",
       "      <td>46.825975</td>\n",
       "      <td>33.408946</td>\n",
       "      <td>6.00000</td>\n",
       "      <td>22.0000</td>\n",
       "      <td>38.0000</td>\n",
       "      <td>63.00000</td>\n",
       "      <td>289.00000</td>\n",
       "    </tr>\n",
       "    <tr>\n",
       "      <th>density</th>\n",
       "      <td>1359.0</td>\n",
       "      <td>0.996709</td>\n",
       "      <td>0.001869</td>\n",
       "      <td>0.99007</td>\n",
       "      <td>0.9956</td>\n",
       "      <td>0.9967</td>\n",
       "      <td>0.99782</td>\n",
       "      <td>1.00369</td>\n",
       "    </tr>\n",
       "    <tr>\n",
       "      <th>pH</th>\n",
       "      <td>1359.0</td>\n",
       "      <td>3.309787</td>\n",
       "      <td>0.155036</td>\n",
       "      <td>2.74000</td>\n",
       "      <td>3.2100</td>\n",
       "      <td>3.3100</td>\n",
       "      <td>3.40000</td>\n",
       "      <td>4.01000</td>\n",
       "    </tr>\n",
       "    <tr>\n",
       "      <th>sulphates</th>\n",
       "      <td>1359.0</td>\n",
       "      <td>0.658705</td>\n",
       "      <td>0.170667</td>\n",
       "      <td>0.33000</td>\n",
       "      <td>0.5500</td>\n",
       "      <td>0.6200</td>\n",
       "      <td>0.73000</td>\n",
       "      <td>2.00000</td>\n",
       "    </tr>\n",
       "    <tr>\n",
       "      <th>alcohol</th>\n",
       "      <td>1359.0</td>\n",
       "      <td>10.432315</td>\n",
       "      <td>1.082065</td>\n",
       "      <td>8.40000</td>\n",
       "      <td>9.5000</td>\n",
       "      <td>10.2000</td>\n",
       "      <td>11.10000</td>\n",
       "      <td>14.90000</td>\n",
       "    </tr>\n",
       "    <tr>\n",
       "      <th>quality</th>\n",
       "      <td>1359.0</td>\n",
       "      <td>5.623252</td>\n",
       "      <td>0.823578</td>\n",
       "      <td>3.00000</td>\n",
       "      <td>5.0000</td>\n",
       "      <td>6.0000</td>\n",
       "      <td>6.00000</td>\n",
       "      <td>8.00000</td>\n",
       "    </tr>\n",
       "  </tbody>\n",
       "</table>\n",
       "</div>"
      ],
      "text/plain": [
       "                       count       mean        std      min      25%      50%  \\\n",
       "fixed acidity         1359.0   8.310596   1.736990  4.60000   7.1000   7.9000   \n",
       "volatile acidity      1359.0   0.529478   0.183031  0.12000   0.3900   0.5200   \n",
       "citric acid           1359.0   0.272333   0.195537  0.00000   0.0900   0.2600   \n",
       "residual sugar        1359.0   2.523400   1.352314  0.90000   1.9000   2.2000   \n",
       "chlorides             1359.0   0.088124   0.049377  0.01200   0.0700   0.0790   \n",
       "free sulfur dioxide   1359.0  15.893304  10.447270  1.00000   7.0000  14.0000   \n",
       "total sulfur dioxide  1359.0  46.825975  33.408946  6.00000  22.0000  38.0000   \n",
       "density               1359.0   0.996709   0.001869  0.99007   0.9956   0.9967   \n",
       "pH                    1359.0   3.309787   0.155036  2.74000   3.2100   3.3100   \n",
       "sulphates             1359.0   0.658705   0.170667  0.33000   0.5500   0.6200   \n",
       "alcohol               1359.0  10.432315   1.082065  8.40000   9.5000  10.2000   \n",
       "quality               1359.0   5.623252   0.823578  3.00000   5.0000   6.0000   \n",
       "\n",
       "                           75%        max  \n",
       "fixed acidity          9.20000   15.90000  \n",
       "volatile acidity       0.64000    1.58000  \n",
       "citric acid            0.43000    1.00000  \n",
       "residual sugar         2.60000   15.50000  \n",
       "chlorides              0.09100    0.61100  \n",
       "free sulfur dioxide   21.00000   72.00000  \n",
       "total sulfur dioxide  63.00000  289.00000  \n",
       "density                0.99782    1.00369  \n",
       "pH                     3.40000    4.01000  \n",
       "sulphates              0.73000    2.00000  \n",
       "alcohol               11.10000   14.90000  \n",
       "quality                6.00000    8.00000  "
      ]
     },
     "execution_count": 4,
     "metadata": {},
     "output_type": "execute_result"
    }
   ],
   "source": [
    "df.describe().T"
   ]
  },
  {
   "cell_type": "code",
   "execution_count": 5,
   "id": "c672e683",
   "metadata": {},
   "outputs": [],
   "source": [
    "p99fa = df[\"fixed acidity\"].quantile(0.99)"
   ]
  },
  {
   "cell_type": "code",
   "execution_count": 6,
   "id": "725a0bd4",
   "metadata": {},
   "outputs": [],
   "source": [
    "df.loc[df['fixed acidity']>p99fa,'fixed acidity']=p99fa"
   ]
  },
  {
   "cell_type": "code",
   "execution_count": 7,
   "id": "151672b3",
   "metadata": {},
   "outputs": [],
   "source": [
    "p99va = df[\"volatile acidity\"].quantile(0.99)"
   ]
  },
  {
   "cell_type": "code",
   "execution_count": 8,
   "id": "ed41c8ae",
   "metadata": {},
   "outputs": [],
   "source": [
    "df.loc[df['volatile acidity']>p99va,'volatile acidity']=p99va"
   ]
  },
  {
   "cell_type": "code",
   "execution_count": 9,
   "id": "75b9f89d",
   "metadata": {},
   "outputs": [],
   "source": [
    "p99ca = df[\"citric acid\"].quantile(0.99)"
   ]
  },
  {
   "cell_type": "code",
   "execution_count": 10,
   "id": "a5fcaa17",
   "metadata": {},
   "outputs": [],
   "source": [
    "df.loc[df['citric acid']>p99ca,'citric acid']=p99ca"
   ]
  },
  {
   "cell_type": "code",
   "execution_count": 11,
   "id": "396ae01f",
   "metadata": {},
   "outputs": [],
   "source": [
    "p99rs = df[\"residual sugar\"].quantile(0.95)"
   ]
  },
  {
   "cell_type": "code",
   "execution_count": 12,
   "id": "e9f455bf",
   "metadata": {},
   "outputs": [],
   "source": [
    "df.loc[df['residual sugar']>p99rs,'residual sugar']=p99rs"
   ]
  },
  {
   "cell_type": "code",
   "execution_count": 13,
   "id": "ca0a5646",
   "metadata": {},
   "outputs": [],
   "source": [
    "p99c = df[\"chlorides\"].quantile(0.99)"
   ]
  },
  {
   "cell_type": "code",
   "execution_count": 14,
   "id": "3742a61d",
   "metadata": {},
   "outputs": [],
   "source": [
    "df.loc[df['chlorides']>p99c,'chlorides']=p99c"
   ]
  },
  {
   "cell_type": "code",
   "execution_count": 15,
   "id": "5507b1de",
   "metadata": {},
   "outputs": [],
   "source": [
    "p99fsd = df[\"free sulfur dioxide\"].quantile(0.95)"
   ]
  },
  {
   "cell_type": "code",
   "execution_count": 16,
   "id": "c672e33f",
   "metadata": {},
   "outputs": [],
   "source": [
    "df.loc[df['free sulfur dioxide']>p99fsd,'free sulfur dioxide']=p99fsd"
   ]
  },
  {
   "cell_type": "code",
   "execution_count": 17,
   "id": "954f8365",
   "metadata": {},
   "outputs": [],
   "source": [
    "p99tsd = df[\"total sulfur dioxide\"].quantile(0.95)"
   ]
  },
  {
   "cell_type": "code",
   "execution_count": 18,
   "id": "e97a69b6",
   "metadata": {},
   "outputs": [],
   "source": [
    "df.loc[df['total sulfur dioxide']>p99tsd,'total sulfur dioxide']=p99tsd"
   ]
  },
  {
   "cell_type": "code",
   "execution_count": 19,
   "id": "473fcae7",
   "metadata": {},
   "outputs": [],
   "source": [
    "p99d = df[\"density\"].quantile(0.99)"
   ]
  },
  {
   "cell_type": "code",
   "execution_count": 20,
   "id": "27e02f3a",
   "metadata": {},
   "outputs": [],
   "source": [
    "df.loc[df['density']>p99d,'density']=p99d"
   ]
  },
  {
   "cell_type": "code",
   "execution_count": 21,
   "id": "2720ac0d",
   "metadata": {},
   "outputs": [],
   "source": [
    "p99ph = df[\"pH\"].quantile(0.99)"
   ]
  },
  {
   "cell_type": "code",
   "execution_count": 22,
   "id": "7bc1ff4f",
   "metadata": {},
   "outputs": [],
   "source": [
    "df.loc[df['pH']>p99ph,'pH']=p99ph"
   ]
  },
  {
   "cell_type": "code",
   "execution_count": 23,
   "id": "f397414a",
   "metadata": {},
   "outputs": [],
   "source": [
    "p99s = df[\"sulphates\"].quantile(0.99)"
   ]
  },
  {
   "cell_type": "code",
   "execution_count": 24,
   "id": "e7bc4639",
   "metadata": {},
   "outputs": [],
   "source": [
    "df.loc[df['sulphates']>p99s,'sulphates']=p99s"
   ]
  },
  {
   "cell_type": "code",
   "execution_count": 25,
   "id": "57e8b109",
   "metadata": {},
   "outputs": [],
   "source": [
    "p99a = df[\"alcohol\"].quantile(0.99)"
   ]
  },
  {
   "cell_type": "code",
   "execution_count": 26,
   "id": "93e0cf70",
   "metadata": {},
   "outputs": [],
   "source": [
    "df.loc[df['alcohol']>p99a,'alcohol']=p99a"
   ]
  },
  {
   "cell_type": "code",
   "execution_count": 27,
   "id": "5c78f408",
   "metadata": {},
   "outputs": [
    {
     "data": {
      "text/html": [
       "<div>\n",
       "<style scoped>\n",
       "    .dataframe tbody tr th:only-of-type {\n",
       "        vertical-align: middle;\n",
       "    }\n",
       "\n",
       "    .dataframe tbody tr th {\n",
       "        vertical-align: top;\n",
       "    }\n",
       "\n",
       "    .dataframe thead th {\n",
       "        text-align: right;\n",
       "    }\n",
       "</style>\n",
       "<table border=\"1\" class=\"dataframe\">\n",
       "  <thead>\n",
       "    <tr style=\"text-align: right;\">\n",
       "      <th></th>\n",
       "      <th>count</th>\n",
       "      <th>mean</th>\n",
       "      <th>std</th>\n",
       "      <th>min</th>\n",
       "      <th>25%</th>\n",
       "      <th>50%</th>\n",
       "      <th>75%</th>\n",
       "      <th>max</th>\n",
       "    </tr>\n",
       "  </thead>\n",
       "  <tbody>\n",
       "    <tr>\n",
       "      <th>fixed acidity</th>\n",
       "      <td>1359.0</td>\n",
       "      <td>8.299697</td>\n",
       "      <td>1.699503</td>\n",
       "      <td>4.60000</td>\n",
       "      <td>7.1000</td>\n",
       "      <td>7.9000</td>\n",
       "      <td>9.20000</td>\n",
       "      <td>13.24200</td>\n",
       "    </tr>\n",
       "    <tr>\n",
       "      <th>volatile acidity</th>\n",
       "      <td>1359.0</td>\n",
       "      <td>0.528009</td>\n",
       "      <td>0.177730</td>\n",
       "      <td>0.12000</td>\n",
       "      <td>0.3900</td>\n",
       "      <td>0.5200</td>\n",
       "      <td>0.64000</td>\n",
       "      <td>1.02920</td>\n",
       "    </tr>\n",
       "    <tr>\n",
       "      <th>citric acid</th>\n",
       "      <td>1359.0</td>\n",
       "      <td>0.271706</td>\n",
       "      <td>0.193923</td>\n",
       "      <td>0.00000</td>\n",
       "      <td>0.0900</td>\n",
       "      <td>0.2600</td>\n",
       "      <td>0.43000</td>\n",
       "      <td>0.70420</td>\n",
       "    </tr>\n",
       "    <tr>\n",
       "      <th>residual sugar</th>\n",
       "      <td>1359.0</td>\n",
       "      <td>2.403091</td>\n",
       "      <td>0.808507</td>\n",
       "      <td>0.90000</td>\n",
       "      <td>1.9000</td>\n",
       "      <td>2.2000</td>\n",
       "      <td>2.60000</td>\n",
       "      <td>4.80000</td>\n",
       "    </tr>\n",
       "    <tr>\n",
       "      <th>chlorides</th>\n",
       "      <td>1359.0</td>\n",
       "      <td>0.087353</td>\n",
       "      <td>0.043512</td>\n",
       "      <td>0.01200</td>\n",
       "      <td>0.0700</td>\n",
       "      <td>0.0790</td>\n",
       "      <td>0.09100</td>\n",
       "      <td>0.36842</td>\n",
       "    </tr>\n",
       "    <tr>\n",
       "      <th>free sulfur dioxide</th>\n",
       "      <td>1359.0</td>\n",
       "      <td>15.478661</td>\n",
       "      <td>9.300770</td>\n",
       "      <td>1.00000</td>\n",
       "      <td>7.0000</td>\n",
       "      <td>14.0000</td>\n",
       "      <td>21.00000</td>\n",
       "      <td>35.00000</td>\n",
       "    </tr>\n",
       "    <tr>\n",
       "      <th>total sulfur dioxide</th>\n",
       "      <td>1359.0</td>\n",
       "      <td>45.608904</td>\n",
       "      <td>29.719595</td>\n",
       "      <td>6.00000</td>\n",
       "      <td>22.0000</td>\n",
       "      <td>38.0000</td>\n",
       "      <td>63.00000</td>\n",
       "      <td>113.00000</td>\n",
       "    </tr>\n",
       "    <tr>\n",
       "      <th>density</th>\n",
       "      <td>1359.0</td>\n",
       "      <td>0.996698</td>\n",
       "      <td>0.001837</td>\n",
       "      <td>0.99007</td>\n",
       "      <td>0.9956</td>\n",
       "      <td>0.9967</td>\n",
       "      <td>0.99782</td>\n",
       "      <td>1.00140</td>\n",
       "    </tr>\n",
       "    <tr>\n",
       "      <th>pH</th>\n",
       "      <td>1359.0</td>\n",
       "      <td>3.308733</td>\n",
       "      <td>0.151600</td>\n",
       "      <td>2.74000</td>\n",
       "      <td>3.2100</td>\n",
       "      <td>3.3100</td>\n",
       "      <td>3.40000</td>\n",
       "      <td>3.70420</td>\n",
       "    </tr>\n",
       "    <tr>\n",
       "      <th>sulphates</th>\n",
       "      <td>1359.0</td>\n",
       "      <td>0.655960</td>\n",
       "      <td>0.155950</td>\n",
       "      <td>0.33000</td>\n",
       "      <td>0.5500</td>\n",
       "      <td>0.6200</td>\n",
       "      <td>0.73000</td>\n",
       "      <td>1.28000</td>\n",
       "    </tr>\n",
       "    <tr>\n",
       "      <th>alcohol</th>\n",
       "      <td>1359.0</td>\n",
       "      <td>10.427778</td>\n",
       "      <td>1.067942</td>\n",
       "      <td>8.40000</td>\n",
       "      <td>9.5000</td>\n",
       "      <td>10.2000</td>\n",
       "      <td>11.10000</td>\n",
       "      <td>13.40000</td>\n",
       "    </tr>\n",
       "    <tr>\n",
       "      <th>quality</th>\n",
       "      <td>1359.0</td>\n",
       "      <td>5.623252</td>\n",
       "      <td>0.823578</td>\n",
       "      <td>3.00000</td>\n",
       "      <td>5.0000</td>\n",
       "      <td>6.0000</td>\n",
       "      <td>6.00000</td>\n",
       "      <td>8.00000</td>\n",
       "    </tr>\n",
       "  </tbody>\n",
       "</table>\n",
       "</div>"
      ],
      "text/plain": [
       "                       count       mean        std      min      25%      50%  \\\n",
       "fixed acidity         1359.0   8.299697   1.699503  4.60000   7.1000   7.9000   \n",
       "volatile acidity      1359.0   0.528009   0.177730  0.12000   0.3900   0.5200   \n",
       "citric acid           1359.0   0.271706   0.193923  0.00000   0.0900   0.2600   \n",
       "residual sugar        1359.0   2.403091   0.808507  0.90000   1.9000   2.2000   \n",
       "chlorides             1359.0   0.087353   0.043512  0.01200   0.0700   0.0790   \n",
       "free sulfur dioxide   1359.0  15.478661   9.300770  1.00000   7.0000  14.0000   \n",
       "total sulfur dioxide  1359.0  45.608904  29.719595  6.00000  22.0000  38.0000   \n",
       "density               1359.0   0.996698   0.001837  0.99007   0.9956   0.9967   \n",
       "pH                    1359.0   3.308733   0.151600  2.74000   3.2100   3.3100   \n",
       "sulphates             1359.0   0.655960   0.155950  0.33000   0.5500   0.6200   \n",
       "alcohol               1359.0  10.427778   1.067942  8.40000   9.5000  10.2000   \n",
       "quality               1359.0   5.623252   0.823578  3.00000   5.0000   6.0000   \n",
       "\n",
       "                           75%        max  \n",
       "fixed acidity          9.20000   13.24200  \n",
       "volatile acidity       0.64000    1.02920  \n",
       "citric acid            0.43000    0.70420  \n",
       "residual sugar         2.60000    4.80000  \n",
       "chlorides              0.09100    0.36842  \n",
       "free sulfur dioxide   21.00000   35.00000  \n",
       "total sulfur dioxide  63.00000  113.00000  \n",
       "density                0.99782    1.00140  \n",
       "pH                     3.40000    3.70420  \n",
       "sulphates              0.73000    1.28000  \n",
       "alcohol               11.10000   13.40000  \n",
       "quality                6.00000    8.00000  "
      ]
     },
     "execution_count": 27,
     "metadata": {},
     "output_type": "execute_result"
    }
   ],
   "source": [
    "df.describe().T"
   ]
  },
  {
   "cell_type": "code",
   "execution_count": 28,
   "id": "779db16c",
   "metadata": {},
   "outputs": [],
   "source": [
    "p01ca = df[\"citric acid\"].quantile(0.01)"
   ]
  },
  {
   "cell_type": "code",
   "execution_count": 29,
   "id": "aa06b8eb",
   "metadata": {},
   "outputs": [],
   "source": [
    "df.loc[df['citric acid']<p01ca,'citric acid']=p01ca"
   ]
  },
  {
   "cell_type": "code",
   "execution_count": 30,
   "id": "43989ca2",
   "metadata": {},
   "outputs": [],
   "source": [
    "p01rs = df[\"residual sugar\"].quantile(0.01)"
   ]
  },
  {
   "cell_type": "code",
   "execution_count": 31,
   "id": "0bb925fa",
   "metadata": {},
   "outputs": [],
   "source": [
    "df.loc[df['residual sugar']<p01rs,'residual sugar']=p01rs"
   ]
  },
  {
   "cell_type": "code",
   "execution_count": 32,
   "id": "0af31ceb",
   "metadata": {},
   "outputs": [],
   "source": [
    "p01c = df[\"chlorides\"].quantile(0.01)"
   ]
  },
  {
   "cell_type": "code",
   "execution_count": 33,
   "id": "e372d6c5",
   "metadata": {},
   "outputs": [],
   "source": [
    "df.loc[df['chlorides']<p01c,'chlorides']=p01c"
   ]
  },
  {
   "cell_type": "code",
   "execution_count": 34,
   "id": "e6bc0e82",
   "metadata": {},
   "outputs": [],
   "source": [
    "p01d = df[\"density\"].quantile(0.01)"
   ]
  },
  {
   "cell_type": "code",
   "execution_count": 35,
   "id": "7e42259c",
   "metadata": {},
   "outputs": [],
   "source": [
    "df.loc[df['density']<p01d,'density']=p01d"
   ]
  },
  {
   "cell_type": "code",
   "execution_count": 36,
   "id": "a4fc5806",
   "metadata": {},
   "outputs": [],
   "source": [
    "p01ph = df[\"pH\"].quantile(0.01)"
   ]
  },
  {
   "cell_type": "code",
   "execution_count": 37,
   "id": "d13e2a99",
   "metadata": {},
   "outputs": [],
   "source": [
    "df.loc[df['pH']<p01ph,'pH']=p01ph"
   ]
  },
  {
   "cell_type": "code",
   "execution_count": 38,
   "id": "346f8b73",
   "metadata": {},
   "outputs": [],
   "source": [
    "p01s = df[\"sulphates\"].quantile(0.01)"
   ]
  },
  {
   "cell_type": "code",
   "execution_count": 39,
   "id": "218a4e6b",
   "metadata": {},
   "outputs": [],
   "source": [
    "df.loc[df['sulphates']<p01s,'sulphates']=p01s"
   ]
  },
  {
   "cell_type": "code",
   "execution_count": 40,
   "id": "d3c557cb",
   "metadata": {},
   "outputs": [],
   "source": [
    "p01a = df[\"alcohol\"].quantile(0.01)"
   ]
  },
  {
   "cell_type": "code",
   "execution_count": 41,
   "id": "e0bf0a65",
   "metadata": {},
   "outputs": [],
   "source": [
    "df.loc[df['alcohol']<p01a,'alcohol']=p01a"
   ]
  },
  {
   "cell_type": "code",
   "execution_count": 42,
   "id": "88614226",
   "metadata": {},
   "outputs": [
    {
     "data": {
      "text/html": [
       "<div>\n",
       "<style scoped>\n",
       "    .dataframe tbody tr th:only-of-type {\n",
       "        vertical-align: middle;\n",
       "    }\n",
       "\n",
       "    .dataframe tbody tr th {\n",
       "        vertical-align: top;\n",
       "    }\n",
       "\n",
       "    .dataframe thead th {\n",
       "        text-align: right;\n",
       "    }\n",
       "</style>\n",
       "<table border=\"1\" class=\"dataframe\">\n",
       "  <thead>\n",
       "    <tr style=\"text-align: right;\">\n",
       "      <th></th>\n",
       "      <th>count</th>\n",
       "      <th>mean</th>\n",
       "      <th>std</th>\n",
       "      <th>min</th>\n",
       "      <th>25%</th>\n",
       "      <th>50%</th>\n",
       "      <th>75%</th>\n",
       "      <th>max</th>\n",
       "    </tr>\n",
       "  </thead>\n",
       "  <tbody>\n",
       "    <tr>\n",
       "      <th>fixed acidity</th>\n",
       "      <td>1359.0</td>\n",
       "      <td>8.299697</td>\n",
       "      <td>1.699503</td>\n",
       "      <td>4.600000</td>\n",
       "      <td>7.1000</td>\n",
       "      <td>7.9000</td>\n",
       "      <td>9.20000</td>\n",
       "      <td>13.24200</td>\n",
       "    </tr>\n",
       "    <tr>\n",
       "      <th>volatile acidity</th>\n",
       "      <td>1359.0</td>\n",
       "      <td>0.528009</td>\n",
       "      <td>0.177730</td>\n",
       "      <td>0.120000</td>\n",
       "      <td>0.3900</td>\n",
       "      <td>0.5200</td>\n",
       "      <td>0.64000</td>\n",
       "      <td>1.02920</td>\n",
       "    </tr>\n",
       "    <tr>\n",
       "      <th>citric acid</th>\n",
       "      <td>1359.0</td>\n",
       "      <td>0.271706</td>\n",
       "      <td>0.193923</td>\n",
       "      <td>0.000000</td>\n",
       "      <td>0.0900</td>\n",
       "      <td>0.2600</td>\n",
       "      <td>0.43000</td>\n",
       "      <td>0.70420</td>\n",
       "    </tr>\n",
       "    <tr>\n",
       "      <th>residual sugar</th>\n",
       "      <td>1359.0</td>\n",
       "      <td>2.404857</td>\n",
       "      <td>0.806044</td>\n",
       "      <td>1.400000</td>\n",
       "      <td>1.9000</td>\n",
       "      <td>2.2000</td>\n",
       "      <td>2.60000</td>\n",
       "      <td>4.80000</td>\n",
       "    </tr>\n",
       "    <tr>\n",
       "      <th>chlorides</th>\n",
       "      <td>1359.0</td>\n",
       "      <td>0.087399</td>\n",
       "      <td>0.043455</td>\n",
       "      <td>0.042000</td>\n",
       "      <td>0.0700</td>\n",
       "      <td>0.0790</td>\n",
       "      <td>0.09100</td>\n",
       "      <td>0.36842</td>\n",
       "    </tr>\n",
       "    <tr>\n",
       "      <th>free sulfur dioxide</th>\n",
       "      <td>1359.0</td>\n",
       "      <td>15.478661</td>\n",
       "      <td>9.300770</td>\n",
       "      <td>1.000000</td>\n",
       "      <td>7.0000</td>\n",
       "      <td>14.0000</td>\n",
       "      <td>21.00000</td>\n",
       "      <td>35.00000</td>\n",
       "    </tr>\n",
       "    <tr>\n",
       "      <th>total sulfur dioxide</th>\n",
       "      <td>1359.0</td>\n",
       "      <td>45.608904</td>\n",
       "      <td>29.719595</td>\n",
       "      <td>6.000000</td>\n",
       "      <td>22.0000</td>\n",
       "      <td>38.0000</td>\n",
       "      <td>63.00000</td>\n",
       "      <td>113.00000</td>\n",
       "    </tr>\n",
       "    <tr>\n",
       "      <th>density</th>\n",
       "      <td>1359.0</td>\n",
       "      <td>0.996705</td>\n",
       "      <td>0.001817</td>\n",
       "      <td>0.991872</td>\n",
       "      <td>0.9956</td>\n",
       "      <td>0.9967</td>\n",
       "      <td>0.99782</td>\n",
       "      <td>1.00140</td>\n",
       "    </tr>\n",
       "    <tr>\n",
       "      <th>pH</th>\n",
       "      <td>1359.0</td>\n",
       "      <td>3.309241</td>\n",
       "      <td>0.150195</td>\n",
       "      <td>2.940000</td>\n",
       "      <td>3.2100</td>\n",
       "      <td>3.3100</td>\n",
       "      <td>3.40000</td>\n",
       "      <td>3.70420</td>\n",
       "    </tr>\n",
       "    <tr>\n",
       "      <th>sulphates</th>\n",
       "      <td>1359.0</td>\n",
       "      <td>0.656306</td>\n",
       "      <td>0.155388</td>\n",
       "      <td>0.430000</td>\n",
       "      <td>0.5500</td>\n",
       "      <td>0.6200</td>\n",
       "      <td>0.73000</td>\n",
       "      <td>1.28000</td>\n",
       "    </tr>\n",
       "    <tr>\n",
       "      <th>alcohol</th>\n",
       "      <td>1359.0</td>\n",
       "      <td>10.429617</td>\n",
       "      <td>1.065065</td>\n",
       "      <td>9.000000</td>\n",
       "      <td>9.5000</td>\n",
       "      <td>10.2000</td>\n",
       "      <td>11.10000</td>\n",
       "      <td>13.40000</td>\n",
       "    </tr>\n",
       "    <tr>\n",
       "      <th>quality</th>\n",
       "      <td>1359.0</td>\n",
       "      <td>5.623252</td>\n",
       "      <td>0.823578</td>\n",
       "      <td>3.000000</td>\n",
       "      <td>5.0000</td>\n",
       "      <td>6.0000</td>\n",
       "      <td>6.00000</td>\n",
       "      <td>8.00000</td>\n",
       "    </tr>\n",
       "  </tbody>\n",
       "</table>\n",
       "</div>"
      ],
      "text/plain": [
       "                       count       mean        std       min      25%  \\\n",
       "fixed acidity         1359.0   8.299697   1.699503  4.600000   7.1000   \n",
       "volatile acidity      1359.0   0.528009   0.177730  0.120000   0.3900   \n",
       "citric acid           1359.0   0.271706   0.193923  0.000000   0.0900   \n",
       "residual sugar        1359.0   2.404857   0.806044  1.400000   1.9000   \n",
       "chlorides             1359.0   0.087399   0.043455  0.042000   0.0700   \n",
       "free sulfur dioxide   1359.0  15.478661   9.300770  1.000000   7.0000   \n",
       "total sulfur dioxide  1359.0  45.608904  29.719595  6.000000  22.0000   \n",
       "density               1359.0   0.996705   0.001817  0.991872   0.9956   \n",
       "pH                    1359.0   3.309241   0.150195  2.940000   3.2100   \n",
       "sulphates             1359.0   0.656306   0.155388  0.430000   0.5500   \n",
       "alcohol               1359.0  10.429617   1.065065  9.000000   9.5000   \n",
       "quality               1359.0   5.623252   0.823578  3.000000   5.0000   \n",
       "\n",
       "                          50%       75%        max  \n",
       "fixed acidity          7.9000   9.20000   13.24200  \n",
       "volatile acidity       0.5200   0.64000    1.02920  \n",
       "citric acid            0.2600   0.43000    0.70420  \n",
       "residual sugar         2.2000   2.60000    4.80000  \n",
       "chlorides              0.0790   0.09100    0.36842  \n",
       "free sulfur dioxide   14.0000  21.00000   35.00000  \n",
       "total sulfur dioxide  38.0000  63.00000  113.00000  \n",
       "density                0.9967   0.99782    1.00140  \n",
       "pH                     3.3100   3.40000    3.70420  \n",
       "sulphates              0.6200   0.73000    1.28000  \n",
       "alcohol               10.2000  11.10000   13.40000  \n",
       "quality                6.0000   6.00000    8.00000  "
      ]
     },
     "execution_count": 42,
     "metadata": {},
     "output_type": "execute_result"
    }
   ],
   "source": [
    "df.describe().T"
   ]
  },
  {
   "cell_type": "code",
   "execution_count": 43,
   "id": "c90e14a2",
   "metadata": {},
   "outputs": [],
   "source": [
    "df.to_csv(\"winequality-red-99.csv\")"
   ]
  }
 ],
 "metadata": {
  "kernelspec": {
   "display_name": "Python 3 (ipykernel)",
   "language": "python",
   "name": "python3"
  },
  "language_info": {
   "codemirror_mode": {
    "name": "ipython",
    "version": 3
   },
   "file_extension": ".py",
   "mimetype": "text/x-python",
   "name": "python",
   "nbconvert_exporter": "python",
   "pygments_lexer": "ipython3",
   "version": "3.11.5"
  }
 },
 "nbformat": 4,
 "nbformat_minor": 5
}
